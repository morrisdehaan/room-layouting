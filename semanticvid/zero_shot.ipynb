{
 "cells": [
  {
   "cell_type": "code",
   "execution_count": 1,
   "id": "becba99d",
   "metadata": {},
   "outputs": [],
   "source": [
    "import os\n",
    "import clip\n",
    "import torch\n",
    "import numpy as np\n",
    "from tqdm import tqdm\n",
    "from clip_images import init_CLIP\n",
    "from ae_training import load_model\n",
    "from plyfile import PlyData, PlyElement\n",
    "from prompts2 import idx2class, idx2prompts\n",
    "from readers.clip_reader import clipReader\n",
    "from torch.utils.data import DataLoader, TensorDataset\n",
    "device = \"cuda\" if torch.cuda.is_available() else \"cpu\""
   ]
  },
  {
   "cell_type": "code",
   "execution_count": null,
   "id": "b04de3cd",
   "metadata": {},
   "outputs": [
    {
     "data": {
      "text/plain": [
       "{0: ['an image of a wall',\n",
       "  'a photo of a wall in a bedroom',\n",
       "  'a closeup of a wall in an indoor scene'],\n",
       " 1: ['an image of a door',\n",
       "  'a photo of a door in a bedroom',\n",
       "  'a closeup of a door in an indoor scene'],\n",
       " 2: ['an image of a bed',\n",
       "  'a photo of a bed in a bedroom',\n",
       "  'a closeup of a bed in an indoor scene'],\n",
       " 3: ['an image of a chair',\n",
       "  'a photo of a chair in a bedroom',\n",
       "  'a closeup of a chair in an indoor scene'],\n",
       " 4: ['an image of a stool',\n",
       "  'a photo of a stool in a bedroom',\n",
       "  'a closeup of a stool in an indoor scene'],\n",
       " 5: ['an image of a nightstand',\n",
       "  'a photo of a nightstand in a bedroom',\n",
       "  'a closeup of a nightstand in an indoor scene'],\n",
       " 6: ['an image of a toilet',\n",
       "  'a photo of a toilet in a bedroom',\n",
       "  'a closeup of a toilet in an indoor scene'],\n",
       " 7: ['an image of a dressing table',\n",
       "  'a photo of a dressing table in a bedroom',\n",
       "  'a closeup of a dressing table in an indoor scene'],\n",
       " 8: ['an image of a wardrobe',\n",
       "  'a photo of a wardrobe in a bedroom',\n",
       "  'a closeup of a wardrobe in an indoor scene'],\n",
       " 9: ['an image of a tv cabinet',\n",
       "  'a photo of a tv cabinet in a bedroom',\n",
       "  'a closeup of a tv cabinet in an indoor scene'],\n",
       " 10: ['an image of a cupboard',\n",
       "  'a photo of a cupboard in a bedroom',\n",
       "  'a closeup of a cupboard in an indoor scene'],\n",
       " 11: ['an image of a chandelier',\n",
       "  'a photo of a chandelier in a bedroom',\n",
       "  'a closeup of a chandelier in an indoor scene'],\n",
       " 12: ['an image of a shower room',\n",
       "  'a photo of a shower room in a bedroom',\n",
       "  'a closeup of a shower room in an indoor scene'],\n",
       " 13: ['an image of curtains',\n",
       "  'a photo of curtains in a bedroom',\n",
       "  'a closeup of curtains in an indoor scene'],\n",
       " 14: ['an image of a carpet',\n",
       "  'a photo of a carpet in a bedroom',\n",
       "  'a closeup of a carpet in an indoor scene'],\n",
       " 15: ['an image of plants',\n",
       "  'a photo of plants in a bedroom',\n",
       "  'a closeup of plants in an indoor scene'],\n",
       " 16: ['an image of a wall decoration',\n",
       "  'a photo of a wall decoration in a bedroom',\n",
       "  'a closeup of a wall decoration in an indoor scene'],\n",
       " 17: ['an image of stuff',\n",
       "  'a photo of stuff in a bedroom',\n",
       "  'a closeup of stuff in an indoor scene'],\n",
       " 18: ['an image of things',\n",
       "  'a photo of things in a bedroom',\n",
       "  'a closeup of things in an indoor scene'],\n",
       " 19: ['an image of an object',\n",
       "  'a photo of an object in a bedroom',\n",
       "  'a closeup of an object in an indoor scene'],\n",
       " 20: ['an image of a texture',\n",
       "  'a photo of a texture in a bedroom',\n",
       "  'a closeup of a texture in an indoor scene']}"
      ]
     },
     "execution_count": 2,
     "metadata": {},
     "output_type": "execute_result"
    }
   ],
   "source": [
    "# prompts for zero shot\n",
    "idx2prompts"
   ]
  },
  {
   "cell_type": "code",
   "execution_count": null,
   "id": "4b580a81",
   "metadata": {},
   "outputs": [],
   "source": [
    "\n",
    "# scene specific auto encoder\n",
    "ae,_,_,_ = load_model(\"/home/akshaysm/semantics/understanding_room1/ae_model.pth\")"
   ]
  },
  {
   "cell_type": "code",
   "execution_count": null,
   "id": "fbce6c88",
   "metadata": {},
   "outputs": [
    {
     "data": {
      "text/plain": [
       "(torch.Size([2014184, 3]), torch.Size([2014184, 3]), torch.Size([2014184, 3]))"
      ]
     },
     "execution_count": 4,
     "metadata": {},
     "output_type": "execute_result"
    }
   ],
   "source": [
    "# semantic gs result\n",
    "ckpt_sem = torch.load(\"/home/akshaysm/semantics/understanding_room1/ckpt_sem.pt\")\n",
    "# visual gs result\n",
    "ckpt_col = torch.load(\"/home/akshaysm/semantics/understanding_room1/ckpt_col.pt\")\n",
    "\n",
    "\n",
    "coords = ckpt_sem[\"splats\"][\"means\"].to(device)\n",
    "features = ckpt_sem[\"splats\"][\"features\"].to(device)\n",
    "colors = ckpt_col['splats'][\"sh0\"].squeeze(1).to(device)\n",
    "\n",
    "coords.shape, features.shape, colors.shape"
   ]
  },
  {
   "cell_type": "code",
   "execution_count": null,
   "id": "050f4ca9",
   "metadata": {},
   "outputs": [
    {
     "data": {
      "text/plain": [
       "torch.Size([21, 512])"
      ]
     },
     "execution_count": 5,
     "metadata": {},
     "output_type": "execute_result"
    }
   ],
   "source": [
    "# emebedding prompts\n",
    "clip_model, preprocess = init_CLIP()\n",
    "\n",
    "def gen_prompts(prompt_list):\n",
    "    tokens = clip.tokenize(prompt_list).to(device)\n",
    "    with torch.no_grad():\n",
    "        prompt_embeds = clip_model.encode_text(tokens)\n",
    "        prompt_embeds /= torch.norm(prompt_embeds, dim=-1, keepdim=True)\n",
    "        prompt_embeds = torch.mean(prompt_embeds, dim=0)\n",
    "    return prompt_embeds\n",
    "\n",
    "def contrastive_embeds(embeds, alpha=0.8):\n",
    "    new_embeds = []\n",
    "    for i in range(embeds.shape[0]):\n",
    "        cur = embeds[i]\n",
    "        # rem = torch.cat((embeds[:i], embeds[i + 1:]), dim=0)\n",
    "        # rem = torch.mean(rem, dim=0)\n",
    "        # rem /= torch.norm(rem)\n",
    "        # cur -= alpha * rem\n",
    "        cur /= torch.norm(cur)\n",
    "        new_embeds.append(cur)\n",
    "    \n",
    "    return torch.vstack(new_embeds)\n",
    "\n",
    "queries = torch.vstack([gen_prompts(idx2prompts[i]) for i in range(len(idx2prompts))])\n",
    "queries = contrastive_embeds(queries)\n",
    "queries = queries.to(device)\n",
    "#queries /= torch.norm(queries, keepdim=True)\n",
    "\n",
    "queries.shape"
   ]
  },
  {
   "cell_type": "code",
   "execution_count": 6,
   "id": "e4785266",
   "metadata": {},
   "outputs": [
    {
     "data": {
      "text/plain": [
       "tensor(1.0000, device='cuda:0')"
      ]
     },
     "execution_count": 6,
     "metadata": {},
     "output_type": "execute_result"
    }
   ],
   "source": [
    "torch.norm(queries[0])"
   ]
  },
  {
   "cell_type": "code",
   "execution_count": null,
   "id": "5ac2dde7",
   "metadata": {},
   "outputs": [
    {
     "name": "stderr",
     "output_type": "stream",
     "text": [
      "sim search: 100%|██████████| 984/984 [00:08<00:00, 122.92batch/s]\n"
     ]
    }
   ],
   "source": [
    "# find gaussians that best match prompts\n",
    "\n",
    "dataset = TensorDataset(features)\n",
    "loader = DataLoader(dataset, batch_size=2048, shuffle=False)\n",
    "idxs = []\n",
    "\n",
    "\n",
    "with torch.no_grad():\n",
    "    for data in tqdm(loader, desc=\"sim search\", unit=\"batch\"):\n",
    "        x = data[0]\n",
    "        x = ae.decode(x)    # batchsize x 512\n",
    "        sim = x @ queries.T\n",
    "        sim = torch.argmax(sim, dim=1)\n",
    "        idxs.append(sim)\n",
    "\n",
    "idxs = torch.concat(idxs)"
   ]
  },
  {
   "cell_type": "code",
   "execution_count": null,
   "id": "7ad2f0af",
   "metadata": {},
   "outputs": [
    {
     "name": "stdout",
     "output_type": "stream",
     "text": [
      "chairs: 6458\n",
      "beds: 19084\n",
      "night: 1196\n",
      "walls: 37444\n"
     ]
    }
   ],
   "source": [
    "c2i = {v:k for k,v in idx2class.items()}\n",
    "\n",
    "chairs = idxs == c2i[\"a chair\"]\n",
    "beds = idxs == c2i[\"a bed\"]\n",
    "night= idxs == c2i[\"a nightstand\"]\n",
    "walls= idxs == c2i[\"a wall\"]\n",
    "\n",
    "\n",
    "# chairs = idxs == c2i[\"chairs\"]\n",
    "# beds = idxs == c2i[\"beds\"]\n",
    "# night= idxs == c2i[\"nightstands\"]\n",
    "# walls= idxs == c2i[\"walls\"]\n",
    "\n",
    "print(f\"chairs: {torch.sum(chairs)}\")\n",
    "print(f\"beds: {torch.sum(beds)}\")\n",
    "#print(f\"windows: {torch.sum(windows)}\")\n",
    "#print(f\"statues: {torch.sum(statues)}\")\n",
    "print(f\"night: {torch.sum(night)}\")\n",
    "print(f\"walls: {torch.sum(walls)}\")"
   ]
  },
  {
   "cell_type": "code",
   "execution_count": null,
   "id": "ecbd4faa",
   "metadata": {},
   "outputs": [],
   "source": [
    "# color matches for current class red, and non-matches grey\n",
    "\n",
    "colors[walls] = torch.tensor([1.0, 0.0, 0.0]).to(device)\n",
    "colors[~walls] = torch.tensor([.5, .5, .5]).to(device)"
   ]
  },
  {
   "cell_type": "code",
   "execution_count": null,
   "id": "f539e499",
   "metadata": {},
   "outputs": [],
   "source": [
    "def filter_ckpt(coords, colors, classbin):\n",
    "    coords_f = coords[classbin]\n",
    "    colors_f =  colors[classbin]\n",
    "    return coords_f, colors_f\n",
    "\n",
    "def save_ply(coords: torch.Tensor, colors: torch.Tensor, filename: str):\n",
    "    coords_np = coords.detach().cpu().numpy()\n",
    "    colors_np = colors.detach().cpu().numpy()\n",
    "\n",
    "    if colors_np.dtype != np.uint8:\n",
    "        colors_np = (colors_np * 255).clip(0, 255).astype(np.uint8)\n",
    "\n",
    "    vertices = np.empty(coords_np.shape[0], dtype=[\n",
    "        (\"x\", \"f4\"), (\"y\", \"f4\"), (\"z\", \"f4\"),\n",
    "        (\"red\", \"u1\"), (\"green\", \"u1\"), (\"blue\", \"u1\")\n",
    "    ])\n",
    "\n",
    "    vertices[\"x\"] = coords_np[:, 0]\n",
    "    vertices[\"y\"] = coords_np[:, 1]\n",
    "    vertices[\"z\"] = coords_np[:, 2]\n",
    "    vertices[\"red\"] = colors_np[:, 0]\n",
    "    vertices[\"green\"] = colors_np[:, 1]\n",
    "    vertices[\"blue\"] = colors_np[:, 2]\n",
    "\n",
    "    # Create PlyElement and write to file\n",
    "    ply = PlyElement.describe(vertices, \"vertex\")\n",
    "    PlyData([ply], text=True).write(filename)\n",
    "\n",
    "\n",
    "save_ply(coords, colors, \"walls_SPLM.ply\")"
   ]
  },
  {
   "cell_type": "code",
   "execution_count": null,
   "id": "4602e497",
   "metadata": {},
   "outputs": [
    {
     "data": {
      "text/plain": [
       "array([False, False, False, ..., False, False, False], shape=(2014184,))"
      ]
     },
     "execution_count": 9,
     "metadata": {},
     "output_type": "execute_result"
    }
   ],
   "source": [
    "chairsnp = chairs.cpu().numpy()\n",
    "bedsnp = beds.cpu().numpy()\n",
    "wallsnp = walls.cpu().numpy()\n",
    "\n",
    "chairsnp"
   ]
  },
  {
   "cell_type": "code",
   "execution_count": null,
   "id": "18eb5fff",
   "metadata": {},
   "outputs": [],
   "source": [
    "# save as new plyfile\n",
    "\n",
    "# plyfile constructed during visual gaussian splatting.\n",
    "plyfile = \"/home/akshaysm/semantics/understanding_room1/point_cloud_29999.ply\"\n",
    "vertices = PlyData.read(plyfile)['vertex'].data\n",
    "\n",
    "filtered_vertices = vertices[bedsnp]\n",
    "filtered_ply = PlyElement.describe(filtered_vertices, \"vertex\")\n",
    "PlyData([filtered_ply], text=False, byte_order='<').write(\"/home/akshaysm/semantics/understanding_room1/beds_gs_splm.ply\")"
   ]
  },
  {
   "cell_type": "code",
   "execution_count": 13,
   "id": "fae3b256",
   "metadata": {},
   "outputs": [
    {
     "data": {
      "text/plain": [
       "array([(-0.13204901, -1.422234  ,  0.76465446, 0.64077586,  0.6375941 ,  0.5260317 ,  0.00709344,  0.00752561,  0.00800285, -0.0203096 ,  0.02501735, -0.02524622, -0.01980346, -0.02405356, -0.0040809 ,  0.0012599 , -0.00640167, -0.00667609, -0.00120154, -0.00567731, -0.00136321,  0.01465897,  0.0150622 , -0.00388402, -0.01949572, 0.02071368, -0.02112596, -0.01898693, -0.01960926, -0.00382663, -0.00219843, -0.00652901, -0.0067387 ,  0.00248392, -0.00544363,  0.00204266,  0.0156681 ,  0.01642465, -0.00877442, -0.02670435, 0.02257509, -0.02325078, -0.02643657, -0.02064864, -0.0052585 , -0.01179841, -0.01034671, -0.01087158,  0.01235199, -0.00844992,  0.01118252,  9.9849205, -3.8728185, -6.1704063, -5.9277606, 0.05318695,  0.03800137,  1.4349699 , 0.5080759),\n",
       "       ( 0.31580058, -1.4559342 ,  0.8290082 , 0.43206057,  0.4049391 ,  0.20257333,  0.01067102,  0.01069162,  0.00254201, -0.00126558,  0.00938305, -0.00938071, -0.00123671, -0.00935895, -0.01439709,  0.00387776, -0.01444059, -0.01449389, -0.0037511 , -0.01445871, -0.00387537,  0.00725325,  0.00716164,  0.00805436, -0.00187728, 0.00952419, -0.0094834 , -0.00184919, -0.00948231, -0.01479006,  0.00351454, -0.01478445, -0.01487831, -0.00340087, -0.01485721, -0.00351983,  0.00828303,  0.00817411,  0.01008335, -0.00305819, 0.00943265, -0.00941993, -0.00301629, -0.00940494, -0.01530637,  0.00295155, -0.01533607, -0.01539513, -0.0028028 , -0.01536404, -0.00294382, -4.7226   , -4.9467936, -5.071101 , -5.0146565, 0.6941255 ,  0.6827447 ,  0.9100714 , 0.5670379),\n",
       "       ( 0.39502284, -1.4553279 ,  0.81986356, 0.45888922,  0.3361211 ,  0.09227592, -0.01058599, -0.01114405, -0.01215877,  0.0038255 ,  0.01339635, -0.01331552,  0.00386559, -0.01340562, -0.01423717,  0.00457803, -0.01407388, -0.01415924, -0.00437137, -0.01421562, -0.00457636, -0.01994562, -0.02025298, -0.00639404,  0.00199288, 0.01106996, -0.01101802,  0.00205223, -0.01111463, -0.01351959,  0.00454283, -0.01337998, -0.01340856, -0.00423353, -0.01346246, -0.0045298 , -0.02237552, -0.02264376, -0.00259047,  0.00153665, 0.01289574, -0.01293947,  0.00163014, -0.01296405, -0.01429234,  0.00312789, -0.01431085, -0.01424259, -0.00270119, -0.01424939, -0.00307905, -4.9773965, -4.5512667, -4.5779395, -4.489062 , 0.55818933,  0.46042508,  0.7018768 , 0.4358402),\n",
       "       ...,\n",
       "       ( 0.8776678 ,  2.3517885 ,  1.4005744 , 1.2395744 ,  1.2204208 ,  1.0845889 , -0.01221293,  0.00073109, -0.00225046,  0.00616219, -0.00149011,  0.01232168, -0.00618111,  0.00389961,  0.0082726 , -0.01152614,  0.01974586,  0.03884079, -0.02584706,  0.02117583, -0.0215941 , -0.00352335,  0.01201847, -0.0151924 , -0.00207117, 0.00308269,  0.01575933, -0.01499974,  0.01679926,  0.01682936, -0.01710178,  0.0198758 ,  0.00514043, -0.03046122,  0.03144884, -0.03590438,  0.01148778,  0.01645665, -0.0248641 , -0.01618948, 0.01427473,  0.0120951 , -0.02154135,  0.02487398,  0.0294663 , -0.02856637,  0.02623023, -0.02609076, -0.03263913,  0.03686909, -0.03996222, -5.5373163, -4.363907 , -6.4137764, -5.15381  , 0.7930574 , -0.19711381, -0.42403013, 0.6618572),\n",
       "       ( 3.3675988 ,  2.9391599 , -0.2111524 , 0.06591149, -0.12046599, -0.4450645 , -0.02609486, -0.20713785,  0.05074618,  0.05632548,  0.05134412,  0.00307949,  0.1270496 , -0.00565672, -0.06494282, -0.03920092,  0.06694835,  0.10334902,  0.01522672, -0.10490956, -0.01133039, -0.01405596, -0.18440811,  0.04940498,  0.04798405, 0.05184464,  0.00315769,  0.10845894, -0.00531876, -0.05496573, -0.04149837,  0.05654309,  0.08761428,  0.01273074, -0.08871624, -0.00959826,  0.00752888, -0.10564678,  0.04390107,  0.02354775, 0.00806064,  0.00431573,  0.03524227, -0.00518946, -0.03368486,  0.00384378,  0.03418921,  0.01689875,  0.01174149, -0.01736511, -0.01061469, 16.900864 , -4.696229 , -3.3362331, -2.2647707, 0.02258014, -0.0058079 ,  1.0207363 , 0.8677993),\n",
       "       ( 1.6575156 ,  0.36291775,  1.815235  , 0.12376024, -0.37726128, -0.7587204 , -0.04073472, -0.00680577,  0.04787502,  0.01442892,  0.01540112,  0.10379913, -0.01342317,  0.03987268,  0.01615487, -0.0130425 ,  0.05841845,  0.11321549, -0.05724493,  0.00461631, -0.01977795, -0.01848301,  0.01565487,  0.02832437,  0.01991101, 0.0124332 ,  0.11368889, -0.00755509,  0.0518847 ,  0.0125676 , -0.00511334,  0.04941186,  0.12514791, -0.04709927,  0.0225898 , -0.02822627,  0.00833745,  0.04169016, -0.01178368,  0.00949092, 0.01563123,  0.10854683, -0.01761509,  0.07916819,  0.01443851, -0.00819814,  0.04623291,  0.12615095, -0.04707801,  0.04711727, -0.02962941, -3.0981333, -4.2888675, -8.271328 , -3.6578085, 0.5630626 ,  0.701297  ,  0.71455806, 0.6839267)],\n",
       "      shape=(78377,), dtype=[('x', '<f4'), ('y', '<f4'), ('z', '<f4'), ('f_dc_0', '<f4'), ('f_dc_1', '<f4'), ('f_dc_2', '<f4'), ('f_rest_0', '<f4'), ('f_rest_1', '<f4'), ('f_rest_2', '<f4'), ('f_rest_3', '<f4'), ('f_rest_4', '<f4'), ('f_rest_5', '<f4'), ('f_rest_6', '<f4'), ('f_rest_7', '<f4'), ('f_rest_8', '<f4'), ('f_rest_9', '<f4'), ('f_rest_10', '<f4'), ('f_rest_11', '<f4'), ('f_rest_12', '<f4'), ('f_rest_13', '<f4'), ('f_rest_14', '<f4'), ('f_rest_15', '<f4'), ('f_rest_16', '<f4'), ('f_rest_17', '<f4'), ('f_rest_18', '<f4'), ('f_rest_19', '<f4'), ('f_rest_20', '<f4'), ('f_rest_21', '<f4'), ('f_rest_22', '<f4'), ('f_rest_23', '<f4'), ('f_rest_24', '<f4'), ('f_rest_25', '<f4'), ('f_rest_26', '<f4'), ('f_rest_27', '<f4'), ('f_rest_28', '<f4'), ('f_rest_29', '<f4'), ('f_rest_30', '<f4'), ('f_rest_31', '<f4'), ('f_rest_32', '<f4'), ('f_rest_33', '<f4'), ('f_rest_34', '<f4'), ('f_rest_35', '<f4'), ('f_rest_36', '<f4'), ('f_rest_37', '<f4'), ('f_rest_38', '<f4'), ('f_rest_39', '<f4'), ('f_rest_40', '<f4'), ('f_rest_41', '<f4'), ('f_rest_42', '<f4'), ('f_rest_43', '<f4'), ('f_rest_44', '<f4'), ('opacity', '<f4'), ('scale_0', '<f4'), ('scale_1', '<f4'), ('scale_2', '<f4'), ('rot_0', '<f4'), ('rot_1', '<f4'), ('rot_2', '<f4'), ('rot_3', '<f4')])"
      ]
     },
     "execution_count": 13,
     "metadata": {},
     "output_type": "execute_result"
    }
   ],
   "source": [
    "plyfile = \"/home/akshaysm/semantics/understanding_room1/point_cloud_chairs.ply\"\n",
    "vertices = PlyData.read(plyfile)['vertex'].data\n",
    "\n",
    "vertices"
   ]
  }
 ],
 "metadata": {
  "kernelspec": {
   "display_name": "svid",
   "language": "python",
   "name": "python3"
  },
  "language_info": {
   "codemirror_mode": {
    "name": "ipython",
    "version": 3
   },
   "file_extension": ".py",
   "mimetype": "text/x-python",
   "name": "python",
   "nbconvert_exporter": "python",
   "pygments_lexer": "ipython3",
   "version": "3.13.3"
  }
 },
 "nbformat": 4,
 "nbformat_minor": 5
}
