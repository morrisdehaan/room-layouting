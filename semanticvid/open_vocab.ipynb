{
 "cells": [
  {
   "cell_type": "code",
   "execution_count": 1,
   "id": "b3e919a9",
   "metadata": {},
   "outputs": [],
   "source": [
    "import os\n",
    "import clip\n",
    "import torch\n",
    "import numpy as np\n",
    "from tqdm import tqdm\n",
    "from clip_images import init_CLIP\n",
    "from ae_training import load_model\n",
    "from plyfile import PlyData, PlyElement\n",
    "from torch.utils.data import DataLoader, TensorDataset\n",
    "device = \"cuda\" if torch.cuda.is_available() else \"cpu\""
   ]
  },
  {
   "cell_type": "code",
   "execution_count": null,
   "id": "1519b258",
   "metadata": {},
   "outputs": [
    {
     "data": {
      "text/plain": [
       "(torch.Size([2188803, 3]), torch.Size([2188803, 3]), torch.Size([2188803, 3]))"
      ]
     },
     "execution_count": 2,
     "metadata": {},
     "output_type": "execute_result"
    }
   ],
   "source": [
    "# load all necessary data\n",
    "\n",
    "# scene specific auto encoder\n",
    "ae,_,_,_ = load_model(\"/home/akshaysm/semantics/remember_room1/ae_model.pth\")\n",
    "clip_model, preprocess = init_CLIP()\n",
    "\n",
    "# semantic gs result\n",
    "ckpt_sem = torch.load(\"/home/akshaysm/semantics/remember_room1/ckpt_sem.pt\")\n",
    "\n",
    "# visual gs result\n",
    "ckpt_col = torch.load(\"/home/akshaysm/semantics/remember_room1/ckpt_col.pt\")\n",
    "\n",
    "coords = ckpt_sem[\"splats\"][\"means\"].to(device)\n",
    "features = ckpt_sem[\"splats\"][\"features\"].to(device)\n",
    "colors = ckpt_col['splats'][\"sh0\"].squeeze(1).to(device)\n",
    "\n",
    "coords.shape, features.shape, colors.shape"
   ]
  },
  {
   "cell_type": "code",
   "execution_count": 3,
   "id": "df81babb",
   "metadata": {},
   "outputs": [
    {
     "data": {
      "text/plain": [
       "(torch.Size([512]), tensor(1.0000, device='cuda:0'))"
      ]
     },
     "execution_count": 3,
     "metadata": {},
     "output_type": "execute_result"
    }
   ],
   "source": [
    "# query for which we find the best corresponding feature in the data\n",
    "\n",
    "string = \"a wall\"\n",
    "wall_list = [\n",
    "    f\"an image of {string}\",\n",
    "    f\"a photo of {string} in a bedroom\",\n",
    "    f\"a closeup of {string} in an indoor scene\"\n",
    "]\n",
    "\n",
    "tokens = clip.tokenize(wall_list).to(device)\n",
    "with torch.no_grad():\n",
    "    wall_embeds = clip_model.encode_text(tokens)\n",
    "    wall_embeds /= torch.norm(wall_embeds, dim=-1, keepdim=True)\n",
    "    wall_embeds = torch.mean(wall_embeds, dim=0)\n",
    "    wall_embeds /= torch.norm(wall_embeds, dim=-1, keepdim=True)\n",
    "\n",
    "wall_embeds.shape, torch.norm(wall_embeds)"
   ]
  },
  {
   "cell_type": "code",
   "execution_count": 4,
   "id": "5da19436",
   "metadata": {},
   "outputs": [
    {
     "name": "stderr",
     "output_type": "stream",
     "text": [
      "find best feature:   0%|          | 0/1069 [00:00<?, ?batch/s]/tmp/ipykernel_17829/2981152034.py:12: UserWarning: The use of `x.T` on tensors of dimension other than 2 to reverse their shape is deprecated and it will throw an error in a future release. Consider `x.mT` to transpose batches of matrices or `x.permute(*torch.arange(x.ndim - 1, -1, -1))` to reverse the dimensions of a tensor. (Triggered internally at /pytorch/aten/src/ATen/native/TensorShape.cpp:4413.)\n",
      "  sim = x @ wall_embeds.T\n",
      "find best feature: 100%|██████████| 1069/1069 [00:08<00:00, 119.14batch/s]"
     ]
    },
    {
     "name": "stdout",
     "output_type": "stream",
     "text": [
      "0.31820613145828247 torch.Size([512]) tensor(1., device='cuda:0')\n"
     ]
    },
    {
     "name": "stderr",
     "output_type": "stream",
     "text": [
      "\n"
     ]
    }
   ],
   "source": [
    "# find the best feature describing string in the splatting.\n",
    "\n",
    "dataset = TensorDataset(features)\n",
    "loader = DataLoader(dataset, batch_size=2048, shuffle=False)\n",
    "best_cos_sim = 0\n",
    "best_feature = None\n",
    "\n",
    "with torch.no_grad():\n",
    "    for data in tqdm(loader, desc=\"find best feature\", unit=\"batch\"):\n",
    "        x = data[0]\n",
    "        x = ae.decode(x)\n",
    "        sim = x @ wall_embeds.T\n",
    "        high_idx = torch.argmax(sim)\n",
    "        high_sim = sim[high_idx].item()\n",
    "        if high_sim > best_cos_sim:\n",
    "            best_cos_sim = high_sim\n",
    "            best_feature = x[high_idx]\n",
    "\n",
    "print(best_cos_sim, best_feature.shape, torch.norm(best_feature))"
   ]
  },
  {
   "cell_type": "code",
   "execution_count": null,
   "id": "49f282bf",
   "metadata": {},
   "outputs": [
    {
     "name": "stderr",
     "output_type": "stream",
     "text": [
      "sim search: 100%|██████████| 1069/1069 [00:08<00:00, 131.50batch/s]"
     ]
    },
    {
     "name": "stdout",
     "output_type": "stream",
     "text": [
      "(tensor(0.0299, device='cuda:0'), tensor(0.8624, device='cuda:0'))\n"
     ]
    },
    {
     "name": "stderr",
     "output_type": "stream",
     "text": [
      "\n"
     ]
    }
   ],
   "source": [
    "# use the best feature to match gaussians in the scene\n",
    "\n",
    "dataset = TensorDataset(features)\n",
    "loader = DataLoader(dataset, batch_size=2048, shuffle=False)\n",
    "cosine_sims = []\n",
    "\n",
    "with torch.no_grad():\n",
    "    for data in tqdm(loader, desc=\"sim search\", unit=\"batch\"):\n",
    "        x = data[0]\n",
    "        x = ae.decode(x)\n",
    "        sim = x @ best_feature.T\n",
    "        cosine_sims.append(sim)\n",
    "\n",
    "cosine_sims = torch.concat(cosine_sims)\n",
    "print(torch.std_mean(cosine_sims))\n"
   ]
  },
  {
   "cell_type": "code",
   "execution_count": null,
   "id": "a4ded931",
   "metadata": {},
   "outputs": [
    {
     "data": {
      "text/plain": [
       "tensor(39868, device='cuda:0')"
      ]
     },
     "execution_count": 8,
     "metadata": {},
     "output_type": "execute_result"
    }
   ],
   "source": [
    "# thresholding for selecting gaussians\n",
    "# 0.93 for chair\n",
    "# 0.942 for bed\n",
    "# 0.96 for walls\n",
    "# 0.985 for TV\n",
    "\n",
    "filtered_sim = cosine_sims > 0.92 # ????\n",
    "torch.sum(filtered_sim)"
   ]
  },
  {
   "cell_type": "code",
   "execution_count": null,
   "id": "942216cd",
   "metadata": {},
   "outputs": [],
   "source": [
    "# save as new plyfile with selected guassians colored red\n",
    "\n",
    "filtered_np = filtered_sim.cpu().numpy()\n",
    "\n",
    "plyfile = \"/home/akshaysm/semantics/remember_room1/point_cloud_29999.ply\"\n",
    "plydata = PlyData.read(plyfile)\n",
    "vertices_array = np.array(plydata['vertex'].data)\n",
    "\n",
    "vertices_array['f_dc_0'][filtered_np] = 10.0\n",
    "vertices_array['f_dc_1'][filtered_np] = 0.0\n",
    "vertices_array['f_dc_2'][filtered_np] = 0.0\n",
    "\n",
    "vertex_element = PlyElement.describe(vertices_array, 'vertex')\n",
    "PlyData([vertex_element], text=False, byte_order='<').write(\"/home/akshaysm/semantics/remember_room1/rem_wred_max_best.ply\")\n",
    "# binary and little endian for Unity Gaussian Splatting"
   ]
  }
 ],
 "metadata": {
  "kernelspec": {
   "display_name": "svid",
   "language": "python",
   "name": "python3"
  },
  "language_info": {
   "codemirror_mode": {
    "name": "ipython",
    "version": 3
   },
   "file_extension": ".py",
   "mimetype": "text/x-python",
   "name": "python",
   "nbconvert_exporter": "python",
   "pygments_lexer": "ipython3",
   "version": "3.13.3"
  }
 },
 "nbformat": 4,
 "nbformat_minor": 5
}
