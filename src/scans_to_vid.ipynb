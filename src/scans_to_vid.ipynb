{
 "cells": [
  {
   "cell_type": "code",
   "execution_count": 59,
   "id": "221668dd",
   "metadata": {},
   "outputs": [],
   "source": [
    "from PIL import Image\n",
    "import numpy as np\n",
    "import json\n",
    "import matplotlib.pyplot as plt\n",
    "from collections import Counter\n",
    "from typing import Dict, Any, Tuple, List\n",
    "import cv2\n",
    "\n",
    "SCAN_DIR = \"../res/scans\"\n",
    "OUT_DIR = \"../res/out\""
   ]
  },
  {
   "cell_type": "code",
   "execution_count": 60,
   "id": "0913756e",
   "metadata": {},
   "outputs": [],
   "source": [
    "views_list = []\n",
    "with open(f\"{SCAN_DIR}/views.json\") as f:\n",
    "    for line in f:\n",
    "        views_list.append(\n",
    "            json.loads(line.strip())\n",
    "        )\n",
    "\n",
    "views_list = views_list[:1000]"
   ]
  },
  {
   "cell_type": "code",
   "execution_count": null,
   "id": "23e5d9f3",
   "metadata": {},
   "outputs": [],
   "source": [
    "# NOTE: we use PIL to loead images to remain consistent with the rest of the code\n",
    "FPS = 30\n",
    "# max depth in mm\n",
    "MAX_DEPTH = 5000.\n",
    "\n",
    "col_test_frame = np.array(Image.open(f\"{SCAN_DIR}/{views_list[0][\"file_name\"]}\"))\n",
    "ch, cw, _ = col_test_frame.shape\n",
    "depth_test_frame = np.array(Image.open(f\"{SCAN_DIR}/{views_list[0][\"depth_file_name\"]}\"))\n",
    "dh, dw = depth_test_frame.shape\n",
    "\n",
    "col_video = cv2.VideoWriter(\n",
    "    f\"{OUT_DIR}/scan_video.mp4\",\n",
    "    cv2.VideoWriter_fourcc(*\"mp4v\"),\n",
    "    FPS,\n",
    "    (cw, ch),\n",
    ")\n",
    "depth_video = cv2.VideoWriter(\n",
    "    f\"{OUT_DIR}/depth_scan_video.mp4\",\n",
    "    cv2.VideoWriter_fourcc(*\"mp4v\"),\n",
    "    FPS,\n",
    "    (dw, dh),\n",
    ")\n",
    "\n",
    "for view in views_list:\n",
    "    # load and write color frame\n",
    "    col_frame = np.array(Image.open(f\"{SCAN_DIR}/{view[\"file_name\"]}\"))\n",
    "    col_video.write(col_frame) # TODO: Fix -> PIL versus cv2 rgb encoding is slightly different bcuz vid is very blue lol\n",
    "    \n",
    "    # load grayscale image as RGB and scale depth frame\n",
    "    depth_frame = np.atleast_3d(Image.open((f\"{SCAN_DIR}/{view[\"depth_file_name\"]}\"))).repeat(3, axis=-1)\n",
    "    depth_frame = np.clip(depth_frame / MAX_DEPTH * 255., 0., 255.)\n",
    "    # set 0 pixels (i.e., invalid pixels) to salmon pink\n",
    "    depth_1D = depth_frame.reshape(-1, 3)\n",
    "    zero_inds = np.where(depth_1D == np.array([0, 0, 0]))[0]\n",
    "    depth_1D[zero_inds] = np.array([164, 145, 255])\n",
    "    depth_frame = depth_1D.reshape(dh, dw, 3)\n",
    "\n",
    "    # write depth frame\n",
    "    depth_video.write(depth_frame.astype(np.uint8))\n",
    "\n",
    "cv2.destroyAllWindows()\n",
    "col_video.release()\n",
    "depth_video.release()"
   ]
  },
  {
   "cell_type": "markdown",
   "id": "cb6183f9",
   "metadata": {},
   "source": []
  }
 ],
 "metadata": {
  "kernelspec": {
   "display_name": "base",
   "language": "python",
   "name": "python3"
  },
  "language_info": {
   "codemirror_mode": {
    "name": "ipython",
    "version": 3
   },
   "file_extension": ".py",
   "mimetype": "text/x-python",
   "name": "python",
   "nbconvert_exporter": "python",
   "pygments_lexer": "ipython3",
   "version": "3.12.2"
  }
 },
 "nbformat": 4,
 "nbformat_minor": 5
}
